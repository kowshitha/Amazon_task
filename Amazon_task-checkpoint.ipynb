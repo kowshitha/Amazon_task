{
 "cells": [
  {
   "cell_type": "code",
   "execution_count": 1,
   "id": "1061dc71",
   "metadata": {},
   "outputs": [],
   "source": [
    "import selenium\n",
    "from selenium import webdriver\n",
    "from selenium.webdriver.support.ui import Select\n",
    "import time\n",
    "import pandas as pd"
   ]
  },
  {
   "cell_type": "markdown",
   "id": "18666104",
   "metadata": {},
   "source": [
    "## with following link \n",
    "https://www.amazon.in/s?k=offers+on+toys&crid=FRWLJ4CRF2QP&sprefix=offers+on+toys%2Caps%2C292&ref=nb_sb_ss_ts-doa-p_3_14"
   ]
  },
  {
   "cell_type": "code",
   "execution_count": null,
   "id": "724c4d8a",
   "metadata": {},
   "outputs": [],
   "source": []
  },
  {
   "cell_type": "code",
   "execution_count": null,
   "id": "15a9d9be",
   "metadata": {},
   "outputs": [],
   "source": [
    "driverpath=r\"C:\\Users\\merit\\Downloads\\chromedriver_win32\\chromedriver.exe\"\n",
    "driver=webdriver.Chrome(executable_path=driverpath)\n",
    "driver.get(\"https://www.amazon.in/s?k=offers+on+toys&crid=FRWLJ4CRF2QP&sprefix=offers+on+toys%2Caps%2C292&ref=nb_sb_ss_ts-doa-p_3_14\")\n",
    "driver.maximize_window()\n",
    "fname=\"Amazon_toys.xlsx\"\n",
    "writer=pd.ExcelWriter(r\"C:\\\\Users\\\\merit\\\\Desktop\"+\"\\\\\"+fname,engine=\"xlsxwriter\")\n",
    "time.sleep(2)\n",
    "toys=driver.find_elements_by_xpath('//div[contains(@class,\"sg-col-inner\")]//following::div[2]/div[1][contains(@class,\"a-section a-spacing-none\")]//following::h2')\n",
    "ProductName=[]\n",
    "for i in toys:\n",
    "    t1=i.text\n",
    "    ProductName.append(t1)\n",
    "price=driver.find_elements_by_xpath('//div[contains(@class,\"s-desktop-width-max s-desktop-content s-opposite-dir sg-row\")]//following::div[contains(@class,\"sg-col-inner\")]//following::div[contains(@class,\"a-row a-size-base a-color-base\")]')\n",
    "l=[]\n",
    "for i in price:    \n",
    "    t=i.text\n",
    "    l.append(t)\n",
    "l1=[]\n",
    "for i in l:\n",
    "        if i.startswith('₹'):\n",
    "            l1.append(i.split('\\n'))\n",
    "l2=[]\n",
    "for i in range(len(l1)):\n",
    "    l2.append(l1[i][0])\n",
    "\n",
    "l3=[]\n",
    "for i in range(len(l1)):\n",
    "    try:\n",
    "        l3.append(l1[i][1])\n",
    "    except:\n",
    "        l3.append('-')\n",
    "l4=[]\n",
    "for i in l3:\n",
    "    value=i.split(' ')\n",
    "    l4.append(value[0])\n",
    "l4\n",
    "    \n",
    "            \n",
    "df=pd.DataFrame(zip(ProductName[0:-1],l4,l2),columns=['productName','Before_offer','After_offer'])\n",
    "df.to_excel(writer,sheet_name=\"Toys_list\",index=False)\n",
    "driver.close()\n",
    "writer.save()\n",
    "writer.close()\n"
   ]
  },
  {
   "cell_type": "markdown",
   "id": "b5ae9600",
   "metadata": {},
   "source": [
    "## with following link\n",
    "https://www.amazon.in/s?k=toys&i=todays-deals&ref=nb_sb_noss_2"
   ]
  },
  {
   "cell_type": "code",
   "execution_count": null,
   "id": "ee2bf4ae",
   "metadata": {},
   "outputs": [],
   "source": [
    "driverpath=r\"C:\\Users\\merit\\Downloads\\chromedriver_win32\\chromedriver.exe\"\n",
    "driver=webdriver.Chrome(executable_path=driverpath)\n",
    "driver.get(\"https://www.amazon.in/s?k=toys&i=todays-deals&ref=nb_sb_noss_2\")\n",
    "driver.maximize_window()\n",
    "fname=\"Amazon_toys2.xlsx\"\n",
    "writer=pd.ExcelWriter(r\"C:\\\\Users\\\\merit\\\\Desktop\"+\"\\\\\"+fname,engine=\"xlsxwriter\")\n",
    "time.sleep(2)\n",
    "toys=driver.find_elements_by_xpath('//div[contains(@class,\"sg-col-inner\")]//following::div[2]/div[1][contains(@class,\"a-section a-spacing-none\")]//following::h2')\n",
    "ProductName=[]\n",
    "for i in toys:\n",
    "    t1=i.text\n",
    "    ProductName.append(t1)\n",
    "price=driver.find_elements_by_xpath('//div[contains(@class,\"s-desktop-width-max s-desktop-content s-opposite-dir sg-row\")]//following::div[contains(@class,\"sg-col-inner\")]//following::div[contains(@class,\"a-row a-size-base a-color-base\")]')\n",
    "l=[]\n",
    "for i in price:    \n",
    "    t=i.text\n",
    "    l.append(t)\n",
    "l1=[]\n",
    "for i in l:\n",
    "        if i.startswith('₹'):\n",
    "            l1.append(i.split('\\n'))\n",
    "l2=[]\n",
    "for i in range(len(l1)):\n",
    "    l2.append(l1[i][0])\n",
    "\n",
    "l3=[]\n",
    "for i in range(len(l1)):\n",
    "    try:\n",
    "        l3.append(l1[i][1])\n",
    "    except:\n",
    "        l3.append('-')\n",
    "l4=[]\n",
    "for i in l3:\n",
    "    value=i.split(' ')\n",
    "    l4.append(value[0])\n",
    "l4\n",
    "    \n",
    "            \n",
    "df1=pd.DataFrame(zip(ProductName[0:-1],l4,l2),columns=['productName','Before_offer','After_offer'])\n",
    "df1.to_excel(writer,sheet_name=\"Toys_list\",index=False)\n",
    "driver.close()\n",
    "writer.save()\n",
    "writer.close()\n"
   ]
  }
 ],
 "metadata": {
  "kernelspec": {
   "display_name": "Python 3",
   "language": "python",
   "name": "python3"
  },
  "language_info": {
   "codemirror_mode": {
    "name": "ipython",
    "version": 3
   },
   "file_extension": ".py",
   "mimetype": "text/x-python",
   "name": "python",
   "nbconvert_exporter": "python",
   "pygments_lexer": "ipython3",
   "version": "3.8.8"
  }
 },
 "nbformat": 4,
 "nbformat_minor": 5
}
